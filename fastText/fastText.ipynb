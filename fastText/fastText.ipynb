{
 "cells": [
  {
   "cell_type": "code",
   "execution_count": 1,
   "metadata": {
    "collapsed": true
   },
   "outputs": [],
   "source": [
    "import pandas as pd\n",
    "import numpy as np\n",
    "import pickle\n",
    "import csv"
   ]
  },
  {
   "cell_type": "markdown",
   "metadata": {},
   "source": [
    "---\n",
    "## Data Loading"
   ]
  },
  {
   "cell_type": "code",
   "execution_count": 2,
   "metadata": {
    "collapsed": true
   },
   "outputs": [],
   "source": [
    "def load_data(filename):\n",
    "    data = []\n",
    "    for line in open(filename, \"r\"):\n",
    "        data.append(line)\n",
    "    return data"
   ]
  },
  {
   "cell_type": "code",
   "execution_count": 3,
   "metadata": {
    "collapsed": true
   },
   "outputs": [],
   "source": [
    "pos_tweets = pd.DataFrame(load_data('twitter-datasets/train_pos_full.txt'), columns=['tweet'])\n",
    "pos_tweets['sentiment'] = 1"
   ]
  },
  {
   "cell_type": "code",
   "execution_count": 4,
   "metadata": {
    "collapsed": true
   },
   "outputs": [],
   "source": [
    "neg_tweets = pd.DataFrame(load_data('twitter-datasets/train_neg_full.txt'), columns=['tweet'])\n",
    "neg_tweets['sentiment'] = -1"
   ]
  },
  {
   "cell_type": "code",
   "execution_count": 5,
   "metadata": {
    "collapsed": true
   },
   "outputs": [],
   "source": [
    "train_tweets = pd.concat([pos_tweets, neg_tweets], axis=0)"
   ]
  },
  {
   "cell_type": "code",
   "execution_count": 6,
   "metadata": {
    "collapsed": true
   },
   "outputs": [],
   "source": [
    "test_tweets = pd.DataFrame(load_data('twitter-datasets/test_data.txt'), columns=['tweet'])\n",
    "test_tweets['tweet'] = test_tweets['tweet'].apply(lambda tweet: tweet.split(',', 1)[-1])"
   ]
  },
  {
   "cell_type": "markdown",
   "metadata": {},
   "source": [
    "---\n",
    "## Data Pre-processing"
   ]
  },
  {
   "cell_type": "code",
   "execution_count": 7,
   "metadata": {
    "collapsed": true
   },
   "outputs": [],
   "source": [
    "from preprocessing import tweets_preprocessing"
   ]
  },
  {
   "cell_type": "code",
   "execution_count": 9,
   "metadata": {},
   "outputs": [
    {
     "name": "stdout",
     "output_type": "stream",
     "text": [
      "Contraction words expansion finished!\n",
      "Emoji to hashtag transformation finished!\n",
      "Sentiment words emphasizing finished!\n",
      "Number to hashtag <number> transformation finished!\n",
      "ALL DONE!\n"
     ]
    }
   ],
   "source": [
    "train_tweets = tweets_preprocessing(train_tweets)"
   ]
  },
  {
   "cell_type": "code",
   "execution_count": 8,
   "metadata": {},
   "outputs": [
    {
     "name": "stdout",
     "output_type": "stream",
     "text": [
      "Contraction words expansion finished!\n",
      "Emoji to hashtag transformation finished!\n",
      "Sentiment words emphasizing finished!\n",
      "Number to hashtag <number> transformation finished!\n",
      "ALL DONE!\n"
     ]
    }
   ],
   "source": [
    "test_tweets = tweets_preprocessing(test_tweets)"
   ]
  },
  {
   "cell_type": "code",
   "execution_count": 16,
   "metadata": {
    "collapsed": true
   },
   "outputs": [],
   "source": [
    "train_tweets.to_pickle('train_tweets_after_preprocess.pkl')\n",
    "test_tweets.to_pickle('test_tweets_after_preprocess.pkl')"
   ]
  },
  {
   "cell_type": "markdown",
   "metadata": {},
   "source": [
    "---\n",
    "## fastText Model Building and Prediction"
   ]
  },
  {
   "cell_type": "code",
   "execution_count": null,
   "metadata": {
    "collapsed": true
   },
   "outputs": [],
   "source": [
    "def fast_text(tweets, test_tweets):\n",
    "    tweets['sentiment'] = tweets['sentiment'].apply(lambda row: 'label_'+str(row))\n",
    "\n",
    "    # Create fastText train file\n",
    "    f = open('fasttext_train.txt', 'w')\n",
    "    for tweet, sentiment in zip(tweets['tweet'], tweets['sentiment']):\n",
    "        f.write((tweet.rstrip() + ' ' + sentiment + '\\n'))\n",
    "    f.close()\n",
    "    \n",
    "    # Train model\n",
    "    classifier = fasttext.supervised('fasttext_train.txt', 'fasttext_model',\n",
    "                                     label_prefix='label_', epoch = 20, dim = 200)\n",
    "    \n",
    "    test_tweets = np.array(test_tweets['tweet'])\n",
    "    \n",
    "    # Prediction\n",
    "    labels = classifier.predict(test_tweets)\n",
    "    labels = [int(value) for label in labels for value in label]\n",
    "\n",
    "    return labels"
   ]
  },
  {
   "cell_type": "code",
   "execution_count": 11,
   "metadata": {
    "collapsed": true
   },
   "outputs": [],
   "source": [
    "pred = fast_text(train_tweets, test_tweets)\n",
    "pred = np.array(pred)"
   ]
  },
  {
   "cell_type": "code",
   "execution_count": 12,
   "metadata": {
    "collapsed": true
   },
   "outputs": [],
   "source": [
    "with open('ft_submission.csv', 'w') as file:\n",
    "    fieldnames = ['Id', 'Prediction']\n",
    "    writeFile = csv.DictWriter(file, delimiter=\",\", fieldnames=fieldnames)\n",
    "    writeFile.writeheader()\n",
    "    idx = 1\n",
    "    for x in pred:\n",
    "        writeFile.writerow({'Id':int(idx),'Prediction':x})\n",
    "        idx += 1"
   ]
  }
 ],
 "metadata": {
  "kernelspec": {
   "display_name": "Python 3",
   "language": "python",
   "name": "python3"
  },
  "language_info": {
   "codemirror_mode": {
    "name": "ipython",
    "version": 3
   },
   "file_extension": ".py",
   "mimetype": "text/x-python",
   "name": "python",
   "nbconvert_exporter": "python",
   "pygments_lexer": "ipython3",
   "version": "3.6.1"
  }
 },
 "nbformat": 4,
 "nbformat_minor": 2
}
